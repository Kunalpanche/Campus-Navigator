{
 "cells": [
  {
   "cell_type": "code",
   "execution_count": 42,
   "metadata": {
    "id": "dfKK5g2kUQns"
   },
   "outputs": [],
   "source": [
    "import folium\n",
    "from folium import plugins\n",
    "import pandas as pd\n",
    "\n",
    "import ipywidgets\n",
    "import os\n",
    "import json\n",
    "\n",
    "from IPython.display import YouTubeVideo\n",
    "import datetime"
   ]
  },
  {
   "cell_type": "code",
   "execution_count": 43,
   "metadata": {
    "colab": {
     "base_uri": "https://localhost:8080/",
     "height": 832
    },
    "id": "GrqeeJe5VBIl",
    "outputId": "6cfcc462-141b-4dd6-a2ad-63f5307dd145"
   },
   "outputs": [
    {
     "data": {
      "text/html": [
       "<div style=\"width:100%;\"><div style=\"position:relative;width:100%;height:0;padding-bottom:60%;\"><span style=\"color:#565656\">Make this Notebook Trusted to load map: File -> Trust Notebook</span><iframe srcdoc=\"&lt;!DOCTYPE html&gt;\n",
       "&lt;html&gt;\n",
       "&lt;head&gt;\n",
       "    \n",
       "    &lt;meta http-equiv=&quot;content-type&quot; content=&quot;text/html; charset=UTF-8&quot; /&gt;\n",
       "    \n",
       "        &lt;script&gt;\n",
       "            L_NO_TOUCH = false;\n",
       "            L_DISABLE_3D = false;\n",
       "        &lt;/script&gt;\n",
       "    \n",
       "    &lt;style&gt;html, body {width: 100%;height: 100%;margin: 0;padding: 0;}&lt;/style&gt;\n",
       "    &lt;style&gt;#map {position:absolute;top:0;bottom:0;right:0;left:0;}&lt;/style&gt;\n",
       "    &lt;script src=&quot;https://cdn.jsdelivr.net/npm/leaflet@1.9.3/dist/leaflet.js&quot;&gt;&lt;/script&gt;\n",
       "    &lt;script src=&quot;https://code.jquery.com/jquery-3.7.1.min.js&quot;&gt;&lt;/script&gt;\n",
       "    &lt;script src=&quot;https://cdn.jsdelivr.net/npm/bootstrap@5.2.2/dist/js/bootstrap.bundle.min.js&quot;&gt;&lt;/script&gt;\n",
       "    &lt;script src=&quot;https://cdnjs.cloudflare.com/ajax/libs/Leaflet.awesome-markers/2.0.2/leaflet.awesome-markers.js&quot;&gt;&lt;/script&gt;\n",
       "    &lt;link rel=&quot;stylesheet&quot; href=&quot;https://cdn.jsdelivr.net/npm/leaflet@1.9.3/dist/leaflet.css&quot;/&gt;\n",
       "    &lt;link rel=&quot;stylesheet&quot; href=&quot;https://cdn.jsdelivr.net/npm/bootstrap@5.2.2/dist/css/bootstrap.min.css&quot;/&gt;\n",
       "    &lt;link rel=&quot;stylesheet&quot; href=&quot;https://netdna.bootstrapcdn.com/bootstrap/3.0.0/css/bootstrap-glyphicons.css&quot;/&gt;\n",
       "    &lt;link rel=&quot;stylesheet&quot; href=&quot;https://cdn.jsdelivr.net/npm/@fortawesome/fontawesome-free@6.2.0/css/all.min.css&quot;/&gt;\n",
       "    &lt;link rel=&quot;stylesheet&quot; href=&quot;https://cdnjs.cloudflare.com/ajax/libs/Leaflet.awesome-markers/2.0.2/leaflet.awesome-markers.css&quot;/&gt;\n",
       "    &lt;link rel=&quot;stylesheet&quot; href=&quot;https://cdn.jsdelivr.net/gh/python-visualization/folium/folium/templates/leaflet.awesome.rotate.min.css&quot;/&gt;\n",
       "    \n",
       "            &lt;meta name=&quot;viewport&quot; content=&quot;width=device-width,\n",
       "                initial-scale=1.0, maximum-scale=1.0, user-scalable=no&quot; /&gt;\n",
       "            &lt;style&gt;\n",
       "                #map_0e3bab9615eb86139749fdb15603d117 {\n",
       "                    position: relative;\n",
       "                    width: 75.0%;\n",
       "                    height: 100.0%;\n",
       "                    left: 0.0%;\n",
       "                    top: 0.0%;\n",
       "                }\n",
       "                .leaflet-container { font-size: 1rem; }\n",
       "            &lt;/style&gt;\n",
       "        \n",
       "&lt;/head&gt;\n",
       "&lt;body&gt;\n",
       "    \n",
       "    \n",
       "            &lt;div class=&quot;folium-map&quot; id=&quot;map_0e3bab9615eb86139749fdb15603d117&quot; &gt;&lt;/div&gt;\n",
       "        \n",
       "&lt;/body&gt;\n",
       "&lt;script&gt;\n",
       "    \n",
       "    \n",
       "            var map_0e3bab9615eb86139749fdb15603d117 = L.map(\n",
       "                &quot;map_0e3bab9615eb86139749fdb15603d117&quot;,\n",
       "                {\n",
       "                    center: [21.09678403311578, 78.97954148279098],\n",
       "                    crs: L.CRS.EPSG3857,\n",
       "                    zoom: 17,\n",
       "                    zoomControl: true,\n",
       "                    preferCanvas: false,\n",
       "                }\n",
       "            );\n",
       "\n",
       "            \n",
       "\n",
       "        \n",
       "    \n",
       "            var tile_layer_ff34c5e15ee3f26478412a84823e7afc = L.tileLayer(\n",
       "                &quot;https://tile.openstreetmap.org/{z}/{x}/{y}.png&quot;,\n",
       "                {&quot;attribution&quot;: &quot;\\u0026copy; \\u003ca href=\\&quot;https://www.openstreetmap.org/copyright\\&quot;\\u003eOpenStreetMap\\u003c/a\\u003e contributors&quot;, &quot;detectRetina&quot;: false, &quot;maxNativeZoom&quot;: 19, &quot;maxZoom&quot;: 19, &quot;minZoom&quot;: 0, &quot;noWrap&quot;: false, &quot;opacity&quot;: 1, &quot;subdomains&quot;: &quot;abc&quot;, &quot;tms&quot;: false}\n",
       "            );\n",
       "        \n",
       "    \n",
       "            tile_layer_ff34c5e15ee3f26478412a84823e7afc.addTo(map_0e3bab9615eb86139749fdb15603d117);\n",
       "        \n",
       "&lt;/script&gt;\n",
       "&lt;/html&gt;\" style=\"position:absolute;width:100%;height:100%;left:0;top:0;border:none !important;\" allowfullscreen webkitallowfullscreen mozallowfullscreen></iframe></div></div>"
      ],
      "text/plain": [
       "<folium.folium.Map at 0x2a811584d70>"
      ]
     },
     "execution_count": 43,
     "metadata": {},
     "output_type": "execute_result"
    }
   ],
   "source": [
    "# the latitude and Longitude coordinates\n",
    "UMMlocation = (21.09678403311578, 78.97954148279098)\n",
    "map_UMM = folium.Map(location = UMMlocation, width = \"75%\", zoom_start = 17) # max zoom: 18\n",
    "map_UMM"
   ]
  },
  {
   "cell_type": "code",
   "execution_count": 44,
   "metadata": {
    "colab": {
     "base_uri": "https://localhost:8080/",
     "height": 850
    },
    "id": "fT-J95e4WPWj",
    "outputId": "54bbb0f2-f886-49e8-e959-0133e6c19062"
   },
   "outputs": [
    {
     "data": {
      "text/plain": [
       "<folium.features.GeoJson at 0x2a8115dbfb0>"
      ]
     },
     "metadata": {},
     "output_type": "display_data"
    },
    {
     "data": {
      "text/html": [
       "<div style=\"width:100%;\"><div style=\"position:relative;width:100%;height:0;padding-bottom:60%;\"><span style=\"color:#565656\">Make this Notebook Trusted to load map: File -> Trust Notebook</span><iframe srcdoc=\"&lt;!DOCTYPE html&gt;\n",
       "&lt;html&gt;\n",
       "&lt;head&gt;\n",
       "    \n",
       "    &lt;meta http-equiv=&quot;content-type&quot; content=&quot;text/html; charset=UTF-8&quot; /&gt;\n",
       "    \n",
       "        &lt;script&gt;\n",
       "            L_NO_TOUCH = false;\n",
       "            L_DISABLE_3D = false;\n",
       "        &lt;/script&gt;\n",
       "    \n",
       "    &lt;style&gt;html, body {width: 100%;height: 100%;margin: 0;padding: 0;}&lt;/style&gt;\n",
       "    &lt;style&gt;#map {position:absolute;top:0;bottom:0;right:0;left:0;}&lt;/style&gt;\n",
       "    &lt;script src=&quot;https://cdn.jsdelivr.net/npm/leaflet@1.9.3/dist/leaflet.js&quot;&gt;&lt;/script&gt;\n",
       "    &lt;script src=&quot;https://code.jquery.com/jquery-3.7.1.min.js&quot;&gt;&lt;/script&gt;\n",
       "    &lt;script src=&quot;https://cdn.jsdelivr.net/npm/bootstrap@5.2.2/dist/js/bootstrap.bundle.min.js&quot;&gt;&lt;/script&gt;\n",
       "    &lt;script src=&quot;https://cdnjs.cloudflare.com/ajax/libs/Leaflet.awesome-markers/2.0.2/leaflet.awesome-markers.js&quot;&gt;&lt;/script&gt;\n",
       "    &lt;link rel=&quot;stylesheet&quot; href=&quot;https://cdn.jsdelivr.net/npm/leaflet@1.9.3/dist/leaflet.css&quot;/&gt;\n",
       "    &lt;link rel=&quot;stylesheet&quot; href=&quot;https://cdn.jsdelivr.net/npm/bootstrap@5.2.2/dist/css/bootstrap.min.css&quot;/&gt;\n",
       "    &lt;link rel=&quot;stylesheet&quot; href=&quot;https://netdna.bootstrapcdn.com/bootstrap/3.0.0/css/bootstrap-glyphicons.css&quot;/&gt;\n",
       "    &lt;link rel=&quot;stylesheet&quot; href=&quot;https://cdn.jsdelivr.net/npm/@fortawesome/fontawesome-free@6.2.0/css/all.min.css&quot;/&gt;\n",
       "    &lt;link rel=&quot;stylesheet&quot; href=&quot;https://cdnjs.cloudflare.com/ajax/libs/Leaflet.awesome-markers/2.0.2/leaflet.awesome-markers.css&quot;/&gt;\n",
       "    &lt;link rel=&quot;stylesheet&quot; href=&quot;https://cdn.jsdelivr.net/gh/python-visualization/folium/folium/templates/leaflet.awesome.rotate.min.css&quot;/&gt;\n",
       "    \n",
       "            &lt;meta name=&quot;viewport&quot; content=&quot;width=device-width,\n",
       "                initial-scale=1.0, maximum-scale=1.0, user-scalable=no&quot; /&gt;\n",
       "            &lt;style&gt;\n",
       "                #map_0e3bab9615eb86139749fdb15603d117 {\n",
       "                    position: relative;\n",
       "                    width: 75.0%;\n",
       "                    height: 100.0%;\n",
       "                    left: 0.0%;\n",
       "                    top: 0.0%;\n",
       "                }\n",
       "                .leaflet-container { font-size: 1rem; }\n",
       "            &lt;/style&gt;\n",
       "        \n",
       "&lt;/head&gt;\n",
       "&lt;body&gt;\n",
       "    \n",
       "    \n",
       "            &lt;div class=&quot;folium-map&quot; id=&quot;map_0e3bab9615eb86139749fdb15603d117&quot; &gt;&lt;/div&gt;\n",
       "        \n",
       "&lt;/body&gt;\n",
       "&lt;script&gt;\n",
       "    \n",
       "    \n",
       "            var map_0e3bab9615eb86139749fdb15603d117 = L.map(\n",
       "                &quot;map_0e3bab9615eb86139749fdb15603d117&quot;,\n",
       "                {\n",
       "                    center: [21.09678403311578, 78.97954148279098],\n",
       "                    crs: L.CRS.EPSG3857,\n",
       "                    zoom: 17,\n",
       "                    zoomControl: true,\n",
       "                    preferCanvas: false,\n",
       "                }\n",
       "            );\n",
       "\n",
       "            \n",
       "\n",
       "        \n",
       "    \n",
       "            var tile_layer_ff34c5e15ee3f26478412a84823e7afc = L.tileLayer(\n",
       "                &quot;https://tile.openstreetmap.org/{z}/{x}/{y}.png&quot;,\n",
       "                {&quot;attribution&quot;: &quot;\\u0026copy; \\u003ca href=\\&quot;https://www.openstreetmap.org/copyright\\&quot;\\u003eOpenStreetMap\\u003c/a\\u003e contributors&quot;, &quot;detectRetina&quot;: false, &quot;maxNativeZoom&quot;: 19, &quot;maxZoom&quot;: 19, &quot;minZoom&quot;: 0, &quot;noWrap&quot;: false, &quot;opacity&quot;: 1, &quot;subdomains&quot;: &quot;abc&quot;, &quot;tms&quot;: false}\n",
       "            );\n",
       "        \n",
       "    \n",
       "            tile_layer_ff34c5e15ee3f26478412a84823e7afc.addTo(map_0e3bab9615eb86139749fdb15603d117);\n",
       "        \n",
       "    \n",
       "            tile_layer_ff34c5e15ee3f26478412a84823e7afc.addTo(map_0e3bab9615eb86139749fdb15603d117);\n",
       "        \n",
       "    \n",
       "\n",
       "        function geo_json_a9425a4a6a16df0676e8e46084cdc9ba_onEachFeature(feature, layer) {\n",
       "            layer.on({\n",
       "            });\n",
       "        };\n",
       "        var geo_json_a9425a4a6a16df0676e8e46084cdc9ba = L.geoJson(null, {\n",
       "                onEachFeature: geo_json_a9425a4a6a16df0676e8e46084cdc9ba_onEachFeature,\n",
       "            \n",
       "        });\n",
       "\n",
       "        function geo_json_a9425a4a6a16df0676e8e46084cdc9ba_add (data) {\n",
       "            geo_json_a9425a4a6a16df0676e8e46084cdc9ba\n",
       "                .addData(data);\n",
       "        }\n",
       "            geo_json_a9425a4a6a16df0676e8e46084cdc9ba_add({&quot;features&quot;: [{&quot;geometry&quot;: {&quot;coordinates&quot;: [[78.97885352669294, 21.095404057082163], [78.97808910573235, 21.09513308749233], [78.97813789855951, 21.094985679827886], [78.97889999605178, 21.095247978658435], [78.97884887975647, 21.095404057082163]], &quot;type&quot;: &quot;LineString&quot;}, &quot;properties&quot;: {}, &quot;type&quot;: &quot;Feature&quot;}], &quot;type&quot;: &quot;FeatureCollection&quot;});\n",
       "        geo_json_a9425a4a6a16df0676e8e46084cdc9ba.setStyle(function(feature) {return feature.properties.style;});\n",
       "\n",
       "        \n",
       "    \n",
       "            geo_json_a9425a4a6a16df0676e8e46084cdc9ba.addTo(map_0e3bab9615eb86139749fdb15603d117);\n",
       "        \n",
       "&lt;/script&gt;\n",
       "&lt;/html&gt;\" style=\"position:absolute;width:100%;height:100%;left:0;top:0;border:none !important;\" allowfullscreen webkitallowfullscreen mozallowfullscreen></iframe></div></div>"
      ],
      "text/plain": [
       "<folium.folium.Map at 0x2a811584d70>"
      ]
     },
     "metadata": {},
     "output_type": "display_data"
    }
   ],
   "source": [
    "hauseOutline = 'YcceNavigator/GeoResources/Haus1.geojson'\n",
    "display(folium.GeoJson(hauseOutline, name=\"Haus1\").add_to(map_UMM))\n",
    "display(map_UMM)"
   ]
  },
  {
   "cell_type": "code",
   "execution_count": 45,
   "metadata": {
    "id": "rfrg47U_Qj25"
   },
   "outputs": [],
   "source": [
    "testGeoJson = 'YcceNavigator/GeoResources/path/w1.geojson'"
   ]
  },
  {
   "cell_type": "code",
   "execution_count": 46,
   "metadata": {
    "id": "pIQuMaKydxSC"
   },
   "outputs": [],
   "source": [
    "def switchPosition(coordinate):\n",
    "  temp = coordinate[0]\n",
    "  coordinate[0] = coordinate[1]\n",
    "  coordinate[1] = temp\n",
    "  return coordinate"
   ]
  },
  {
   "cell_type": "code",
   "execution_count": 47,
   "metadata": {
    "colab": {
     "base_uri": "https://localhost:8080/"
    },
    "id": "nfn2vUH1Sq5z",
    "outputId": "afca4eed-d028-4212-a98d-ac5cf4f95289"
   },
   "outputs": [
    {
     "data": {
      "text/plain": [
       "[[21.096617864051083, 78.97942686003933],\n",
       " [21.095644142755106, 78.97849475446463],\n",
       " [21.095449397730462, 78.97848395787486]]"
      ]
     },
     "execution_count": 47,
     "metadata": {},
     "output_type": "execute_result"
    }
   ],
   "source": [
    "with open(testGeoJson) as f:\n",
    "  testWay = json.load(f)\n",
    "\n",
    "for feature in testWay['features']:\n",
    "    path = feature['geometry']['coordinates']\n",
    "finalPath = list(map(switchPosition,path))\n",
    "finalPath"
   ]
  },
  {
   "cell_type": "code",
   "execution_count": 48,
   "metadata": {
    "colab": {
     "base_uri": "https://localhost:8080/",
     "height": 832
    },
    "id": "TtAbktGTZ5bx",
    "outputId": "0f635dc9-59c6-40ff-f2b5-1baede23379b"
   },
   "outputs": [
    {
     "data": {
      "text/html": [
       "<div style=\"width:100%;\"><div style=\"position:relative;width:100%;height:0;padding-bottom:60%;\"><span style=\"color:#565656\">Make this Notebook Trusted to load map: File -> Trust Notebook</span><iframe srcdoc=\"&lt;!DOCTYPE html&gt;\n",
       "&lt;html&gt;\n",
       "&lt;head&gt;\n",
       "    \n",
       "    &lt;meta http-equiv=&quot;content-type&quot; content=&quot;text/html; charset=UTF-8&quot; /&gt;\n",
       "    \n",
       "        &lt;script&gt;\n",
       "            L_NO_TOUCH = false;\n",
       "            L_DISABLE_3D = false;\n",
       "        &lt;/script&gt;\n",
       "    \n",
       "    &lt;style&gt;html, body {width: 100%;height: 100%;margin: 0;padding: 0;}&lt;/style&gt;\n",
       "    &lt;style&gt;#map {position:absolute;top:0;bottom:0;right:0;left:0;}&lt;/style&gt;\n",
       "    &lt;script src=&quot;https://cdn.jsdelivr.net/npm/leaflet@1.9.3/dist/leaflet.js&quot;&gt;&lt;/script&gt;\n",
       "    &lt;script src=&quot;https://code.jquery.com/jquery-3.7.1.min.js&quot;&gt;&lt;/script&gt;\n",
       "    &lt;script src=&quot;https://cdn.jsdelivr.net/npm/bootstrap@5.2.2/dist/js/bootstrap.bundle.min.js&quot;&gt;&lt;/script&gt;\n",
       "    &lt;script src=&quot;https://cdnjs.cloudflare.com/ajax/libs/Leaflet.awesome-markers/2.0.2/leaflet.awesome-markers.js&quot;&gt;&lt;/script&gt;\n",
       "    &lt;link rel=&quot;stylesheet&quot; href=&quot;https://cdn.jsdelivr.net/npm/leaflet@1.9.3/dist/leaflet.css&quot;/&gt;\n",
       "    &lt;link rel=&quot;stylesheet&quot; href=&quot;https://cdn.jsdelivr.net/npm/bootstrap@5.2.2/dist/css/bootstrap.min.css&quot;/&gt;\n",
       "    &lt;link rel=&quot;stylesheet&quot; href=&quot;https://netdna.bootstrapcdn.com/bootstrap/3.0.0/css/bootstrap-glyphicons.css&quot;/&gt;\n",
       "    &lt;link rel=&quot;stylesheet&quot; href=&quot;https://cdn.jsdelivr.net/npm/@fortawesome/fontawesome-free@6.2.0/css/all.min.css&quot;/&gt;\n",
       "    &lt;link rel=&quot;stylesheet&quot; href=&quot;https://cdnjs.cloudflare.com/ajax/libs/Leaflet.awesome-markers/2.0.2/leaflet.awesome-markers.css&quot;/&gt;\n",
       "    &lt;link rel=&quot;stylesheet&quot; href=&quot;https://cdn.jsdelivr.net/gh/python-visualization/folium/folium/templates/leaflet.awesome.rotate.min.css&quot;/&gt;\n",
       "    \n",
       "            &lt;meta name=&quot;viewport&quot; content=&quot;width=device-width,\n",
       "                initial-scale=1.0, maximum-scale=1.0, user-scalable=no&quot; /&gt;\n",
       "            &lt;style&gt;\n",
       "                #map_0e3bab9615eb86139749fdb15603d117 {\n",
       "                    position: relative;\n",
       "                    width: 75.0%;\n",
       "                    height: 100.0%;\n",
       "                    left: 0.0%;\n",
       "                    top: 0.0%;\n",
       "                }\n",
       "                .leaflet-container { font-size: 1rem; }\n",
       "            &lt;/style&gt;\n",
       "        \n",
       "    &lt;script src=&quot;https://cdn.jsdelivr.net/npm/leaflet-ant-path@1.1.2/dist/leaflet-ant-path.min.js&quot;&gt;&lt;/script&gt;\n",
       "&lt;/head&gt;\n",
       "&lt;body&gt;\n",
       "    \n",
       "    \n",
       "            &lt;div class=&quot;folium-map&quot; id=&quot;map_0e3bab9615eb86139749fdb15603d117&quot; &gt;&lt;/div&gt;\n",
       "        \n",
       "&lt;/body&gt;\n",
       "&lt;script&gt;\n",
       "    \n",
       "    \n",
       "            var map_0e3bab9615eb86139749fdb15603d117 = L.map(\n",
       "                &quot;map_0e3bab9615eb86139749fdb15603d117&quot;,\n",
       "                {\n",
       "                    center: [21.09678403311578, 78.97954148279098],\n",
       "                    crs: L.CRS.EPSG3857,\n",
       "                    zoom: 17,\n",
       "                    zoomControl: true,\n",
       "                    preferCanvas: false,\n",
       "                }\n",
       "            );\n",
       "\n",
       "            \n",
       "\n",
       "        \n",
       "    \n",
       "            var tile_layer_ff34c5e15ee3f26478412a84823e7afc = L.tileLayer(\n",
       "                &quot;https://tile.openstreetmap.org/{z}/{x}/{y}.png&quot;,\n",
       "                {&quot;attribution&quot;: &quot;\\u0026copy; \\u003ca href=\\&quot;https://www.openstreetmap.org/copyright\\&quot;\\u003eOpenStreetMap\\u003c/a\\u003e contributors&quot;, &quot;detectRetina&quot;: false, &quot;maxNativeZoom&quot;: 19, &quot;maxZoom&quot;: 19, &quot;minZoom&quot;: 0, &quot;noWrap&quot;: false, &quot;opacity&quot;: 1, &quot;subdomains&quot;: &quot;abc&quot;, &quot;tms&quot;: false}\n",
       "            );\n",
       "        \n",
       "    \n",
       "            tile_layer_ff34c5e15ee3f26478412a84823e7afc.addTo(map_0e3bab9615eb86139749fdb15603d117);\n",
       "        \n",
       "    \n",
       "            tile_layer_ff34c5e15ee3f26478412a84823e7afc.addTo(map_0e3bab9615eb86139749fdb15603d117);\n",
       "        \n",
       "    \n",
       "\n",
       "        function geo_json_a9425a4a6a16df0676e8e46084cdc9ba_onEachFeature(feature, layer) {\n",
       "            layer.on({\n",
       "            });\n",
       "        };\n",
       "        var geo_json_a9425a4a6a16df0676e8e46084cdc9ba = L.geoJson(null, {\n",
       "                onEachFeature: geo_json_a9425a4a6a16df0676e8e46084cdc9ba_onEachFeature,\n",
       "            \n",
       "        });\n",
       "\n",
       "        function geo_json_a9425a4a6a16df0676e8e46084cdc9ba_add (data) {\n",
       "            geo_json_a9425a4a6a16df0676e8e46084cdc9ba\n",
       "                .addData(data);\n",
       "        }\n",
       "            geo_json_a9425a4a6a16df0676e8e46084cdc9ba_add({&quot;features&quot;: [{&quot;geometry&quot;: {&quot;coordinates&quot;: [[78.97885352669294, 21.095404057082163], [78.97808910573235, 21.09513308749233], [78.97813789855951, 21.094985679827886], [78.97889999605178, 21.095247978658435], [78.97884887975647, 21.095404057082163]], &quot;type&quot;: &quot;LineString&quot;}, &quot;properties&quot;: {}, &quot;type&quot;: &quot;Feature&quot;}], &quot;type&quot;: &quot;FeatureCollection&quot;});\n",
       "        geo_json_a9425a4a6a16df0676e8e46084cdc9ba.setStyle(function(feature) {return feature.properties.style;});\n",
       "\n",
       "        \n",
       "    \n",
       "            geo_json_a9425a4a6a16df0676e8e46084cdc9ba.addTo(map_0e3bab9615eb86139749fdb15603d117);\n",
       "        \n",
       "    \n",
       "            tile_layer_ff34c5e15ee3f26478412a84823e7afc.addTo(map_0e3bab9615eb86139749fdb15603d117);\n",
       "        \n",
       "    \n",
       "            geo_json_a9425a4a6a16df0676e8e46084cdc9ba.addTo(map_0e3bab9615eb86139749fdb15603d117);\n",
       "        \n",
       "    \n",
       "            ant_path_155fd7ee53df0b346f033a6345b4bd46 = L.polyline.antPath(\n",
       "              [[21.096617864051083, 78.97942686003933], [21.095644142755106, 78.97849475446463], [21.095449397730462, 78.97848395787486]],\n",
       "              {&quot;bubblingMouseEvents&quot;: true, &quot;color&quot;: &quot;#0000FF&quot;, &quot;dashArray&quot;: [10, 20], &quot;dashOffset&quot;: null, &quot;delay&quot;: 400, &quot;fill&quot;: false, &quot;fillColor&quot;: &quot;#3388ff&quot;, &quot;fillOpacity&quot;: 0.2, &quot;fillRule&quot;: &quot;evenodd&quot;, &quot;hardwareAcceleration&quot;: false, &quot;lineCap&quot;: &quot;round&quot;, &quot;lineJoin&quot;: &quot;round&quot;, &quot;noClip&quot;: false, &quot;opacity&quot;: 0.5, &quot;paused&quot;: false, &quot;pulseColor&quot;: &quot;#FFFFFF&quot;, &quot;reverse&quot;: false, &quot;smoothFactor&quot;: 1.0, &quot;stroke&quot;: true, &quot;weight&quot;: 5}\n",
       "        ).addTo(map_0e3bab9615eb86139749fdb15603d117);\n",
       "        \n",
       "&lt;/script&gt;\n",
       "&lt;/html&gt;\" style=\"position:absolute;width:100%;height:100%;left:0;top:0;border:none !important;\" allowfullscreen webkitallowfullscreen mozallowfullscreen></iframe></div></div>"
      ],
      "text/plain": [
       "<folium.folium.Map at 0x2a811584d70>"
      ]
     },
     "execution_count": 48,
     "metadata": {},
     "output_type": "execute_result"
    }
   ],
   "source": [
    "path = 'HospitalNavigator/GeoResources/path/w17.geojson'\n",
    "folium.plugins.AntPath([[21.096617864051083, 78.97942686003933],\n",
    " [21.095644142755106, 78.97849475446463],\n",
    " [21.095449397730462, 78.97848395787486]]).add_to(map_UMM)\n",
    "map_UMM"
   ]
  },
  {
   "cell_type": "code",
   "execution_count": 49,
   "metadata": {
    "colab": {
     "base_uri": "https://localhost:8080/",
     "height": 147,
     "referenced_widgets": [
      "f5e7cb4be8574ffbb95ebebc6c865d96",
      "8a7bb639136140469f48a5c4f39f1e20",
      "391a7a948d6b4feb9cc5ab9cacc699c8",
      "a35afb82239a462e85323c93de5ff740",
      "55eea5e36f08469cb21da17984d248ac",
      "622631b3d2cc4875b89b34d13b291271",
      "a4c683770fa040b2a8bcf80362db0d7f"
     ]
    },
    "id": "obbYz7AwRL6K",
    "outputId": "bd107909-20e7-4ff1-ddd4-2d2a43efbb72"
   },
   "outputs": [
    {
     "data": {
      "application/vnd.jupyter.widget-view+json": {
       "model_id": "fcdb62271aef4afbb7f971b6831b9f11",
       "version_major": 2,
       "version_minor": 0
      },
      "text/plain": [
       "interactive(children=(Select(description='Select', options=('Option A', 'Option B'), value='Option A'), Output…"
      ]
     },
     "metadata": {},
     "output_type": "display_data"
    },
    {
     "data": {
      "text/plain": [
       "<function __main__.selectOption(opt)>"
      ]
     },
     "execution_count": 49,
     "metadata": {},
     "output_type": "execute_result"
    }
   ],
   "source": [
    "select_widget=ipywidgets.Select(\n",
    "    options=['Option A', 'Option B'],\n",
    "    value='Option A',\n",
    "    description='Select',\n",
    "    disabled=False)\n",
    "\n",
    "def selectOption(opt):\n",
    "    if opt == 'Option A':\n",
    "        print('A')\n",
    "    if opt == 'Option B':\n",
    "        print('B')\n",
    "\n",
    "ipywidgets.interact(selectOption, opt=select_widget)"
   ]
  },
  {
   "cell_type": "markdown",
   "metadata": {
    "id": "0Q-hv_Wj6nB7"
   },
   "source": [
    "\n",
    "\n",
    "---\n",
    "## Build Navigator Prototype\n",
    "---\n",
    "\n",
    "\n"
   ]
  },
  {
   "cell_type": "code",
   "execution_count": 50,
   "metadata": {
    "id": "g_UAR_hEhh5u"
   },
   "outputs": [],
   "source": [
    "class navigator:\n",
    "    def __init__(self):\n",
    "        self.geoResources = {}\n",
    "        self.hospitalLocation =(21.09678403311578, 78.97954148279098)\n",
    "        self.position = 'w'\n",
    "        self.destination = 'Haus1'\n",
    "\n",
    "        for root, dirs, files in os.walk('YcceNavigator/GeoResources'):\n",
    "            for file in files:\n",
    "                self.geoResources[file.split('.')[0]] = root+'/'+file\n",
    "\n",
    "    def changeDestination(self,newDestination):\n",
    "        self.destination = newDestination\n",
    "        self.redrawMap()\n",
    "\n",
    "    def changeStartPoint(self, newStartPoint):\n",
    "\n",
    "        #self.position = newStartPoint #does not work yet\n",
    "        print(f'Selected Start: {newStartPoint}; Selected Target: {self.destination}')\n",
    "        #self.redrawMap()\n",
    "\n",
    "\n",
    "    def drawPathWay(self,hospitalMap):\n",
    "\n",
    "      def switchPosition(coordinate):\n",
    "        temp = coordinate[0]\n",
    "        coordinate[0] = coordinate[1]\n",
    "        coordinate[1] = temp\n",
    "        return coordinate\n",
    "\n",
    "      searchString = self.position + self.destination.split('Haus')[1]\n",
    "      with open(self.geoResources[searchString]) as f:\n",
    "           testWay = json.load(f)\n",
    "\n",
    "      for feature in testWay['features']:\n",
    "        path = feature['geometry']['coordinates']\n",
    "\n",
    "      finalPath = list(map(switchPosition,path))\n",
    "      folium.plugins.AntPath(finalPath).add_to(hospitalMap)\n",
    "\n",
    "    def drawBuilding(self,hospitalMap):\n",
    "      hauseOutline = self.geoResources[self.destination]\n",
    "      folium.GeoJson(hauseOutline, name=\"geojson\").add_to(hospitalMap)\n",
    "\n",
    "    def redrawMap(self):\n",
    "        #print(f'position {self.position}, destination {self.destination}')\n",
    "        hospitalMap = folium.Map(location = self.hospitalLocation, width = \"75%\", zoom_start = 17)\n",
    "        self.drawPathWay(hospitalMap)\n",
    "        self.drawBuilding(hospitalMap)\n",
    "        display(hospitalMap)\n",
    "\n",
    "\n"
   ]
  },
  {
   "cell_type": "code",
   "execution_count": 51,
   "metadata": {
    "id": "NiF2NcmlVioA"
   },
   "outputs": [],
   "source": [
    "myNavigator = navigator()"
   ]
  },
  {
   "cell_type": "code",
   "execution_count": 52,
   "metadata": {
    "id": "1KVHVrwnjD1H"
   },
   "outputs": [],
   "source": [
    "def displayWay(whereTo):\n",
    "     myNavigator.changeDestination(whereTo)"
   ]
  },
  {
   "cell_type": "code",
   "execution_count": 53,
   "metadata": {
    "id": "pjRHgbd7jEPb"
   },
   "outputs": [],
   "source": [
    "def changePosition(whereFrom):\n",
    "    myNavigator.changeStartPoint(whereFrom)"
   ]
  },
  {
   "cell_type": "code",
   "execution_count": 54,
   "metadata": {
    "colab": {
     "base_uri": "https://localhost:8080/",
     "height": 1000,
     "referenced_widgets": [
      "46a4ac3f6d344b1b99c23dffb514789d",
      "b8b2d79647a741aeb3e68be8518bbd04",
      "61b9b017729d481c8f6f44e95fe47dca",
      "13470733bbc74beaa6424b5958da6caa",
      "9e7cbb450bd04cd0ab00170c409feeae",
      "941c12d314b843aa901e175f2bec1802",
      "87257ce4a84c42e99e5fd471bb922cf3",
      "c7815ce2236748a8915ea3dbfbe9dfd3",
      "8ed93a2182ac45628d5fa0cb3777e6f3",
      "ee78a82c3b3c4eae9dc7762e3d92d282",
      "0383d26702e94b609a7d1adbf700c484",
      "d089a78280854ed98081fdf856635983",
      "edc88a8db35d4514b66d477af99d1dd1",
      "dedc5321f51a425d9df051ce3e51546d"
     ]
    },
    "id": "m1kE2QZlacKq",
    "outputId": "08862276-d071-4cfa-9108-d509e42e4444"
   },
   "outputs": [
    {
     "data": {
      "application/vnd.jupyter.widget-view+json": {
       "model_id": "4f68262d10514a1a843d37e814e3a30e",
       "version_major": 2,
       "version_minor": 0
      },
      "text/plain": [
       "interactive(children=(Select(description='Start', options=('Ycce Gate',), value='Ycce Gate'), Output()), _dom_…"
      ]
     },
     "metadata": {},
     "output_type": "display_data"
    },
    {
     "data": {
      "application/vnd.jupyter.widget-view+json": {
       "model_id": "655ef2f63e684db3a975fdc7da6b8c78",
       "version_major": 2,
       "version_minor": 0
      },
      "text/plain": [
       "interactive(children=(Select(description='Target', options=('Haus1', 'Haus2', 'Haus3', 'Haus4', 'Haus5', 'Haus…"
      ]
     },
     "metadata": {},
     "output_type": "display_data"
    },
    {
     "data": {
      "text/plain": [
       "<function __main__.selectHouse(way)>"
      ]
     },
     "execution_count": 54,
     "metadata": {},
     "output_type": "execute_result"
    }
   ],
   "source": [
    "# Destination Selector\n",
    "selectHouse_widget=ipywidgets.Select(\n",
    "\n",
    "options=['Haus1',\n",
    "    'Haus2',\n",
    "    'Haus3',\n",
    "    'Haus4',\n",
    "    'Haus5',\n",
    "    'Haus6',\n",
    "    'Haus7',\n",
    "    'Haus8',\n",
    "    'Haus9',],\n",
    "    value='Haus1',\n",
    "    description='Target',\n",
    "    disabled=False)\n",
    "\n",
    "# widget function\n",
    "def selectHouse(way):\n",
    "    if way == 'Haus1' :\n",
    "        displayWay('Haus1' )\n",
    "    if way == 'Haus2' :\n",
    "        displayWay('Haus2' )\n",
    "    if way == 'Haus3' :\n",
    "        displayWay('Haus3' )\n",
    "    if way == 'Haus4' :\n",
    "        displayWay('Haus4' )\n",
    "    if way == 'Haus5' :\n",
    "        displayWay('Haus5' )\n",
    "    if way == 'Haus6' :\n",
    "        displayWay('Haus6' )\n",
    "    if way == 'Haus7' :\n",
    "        displayWay('Haus7' )\n",
    "    if way == 'Haus8' :\n",
    "        displayWay('Haus8' )\n",
    "    if way == 'Haus9' :\n",
    "        displayWay('Haus9' )\n",
    "    \n",
    "\n",
    "# Position Selector\n",
    "selectPosition_widget=ipywidgets.Select(\n",
    "    options=['Ycce Gate'],\n",
    "    value='Ycce Gate',\n",
    "    description='Start',\n",
    "    disabled=False)\n",
    "\n",
    "def selectPosition(position):\n",
    "       if position == 'Ycce Gate':\n",
    "        changePosition('w')\n",
    "\n",
    "#Initialization\n",
    "ipywidgets.interact(selectPosition, position=selectPosition_widget)\n",
    "ipywidgets.interact(selectHouse, way=selectHouse_widget)"
   ]
  },
  {
   "cell_type": "code",
   "execution_count": null,
   "metadata": {
    "id": "gu_bjlTMPOnb"
   },
   "outputs": [],
   "source": []
  }
 ],
 "metadata": {
  "colab": {
   "provenance": []
  },
  "kernelspec": {
   "display_name": "Python 3 (ipykernel)",
   "language": "python",
   "name": "python3"
  },
  "language_info": {
   "codemirror_mode": {
    "name": "ipython",
    "version": 3
   },
   "file_extension": ".py",
   "mimetype": "text/x-python",
   "name": "python",
   "nbconvert_exporter": "python",
   "pygments_lexer": "ipython3",
   "version": "3.12.5"
  },
  "widgets": {
   "application/vnd.jupyter.widget-state+json": {
    "0383d26702e94b609a7d1adbf700c484": {
     "model_module": "@jupyter-widgets/base",
     "model_module_version": "1.2.0",
     "model_name": "LayoutModel",
     "state": {
      "_model_module": "@jupyter-widgets/base",
      "_model_module_version": "1.2.0",
      "_model_name": "LayoutModel",
      "_view_count": null,
      "_view_module": "@jupyter-widgets/base",
      "_view_module_version": "1.2.0",
      "_view_name": "LayoutView",
      "align_content": null,
      "align_items": null,
      "align_self": null,
      "border": null,
      "bottom": null,
      "display": null,
      "flex": null,
      "flex_flow": null,
      "grid_area": null,
      "grid_auto_columns": null,
      "grid_auto_flow": null,
      "grid_auto_rows": null,
      "grid_column": null,
      "grid_gap": null,
      "grid_row": null,
      "grid_template_areas": null,
      "grid_template_columns": null,
      "grid_template_rows": null,
      "height": null,
      "justify_content": null,
      "justify_items": null,
      "left": null,
      "margin": null,
      "max_height": null,
      "max_width": null,
      "min_height": null,
      "min_width": null,
      "object_fit": null,
      "object_position": null,
      "order": null,
      "overflow": null,
      "overflow_x": null,
      "overflow_y": null,
      "padding": null,
      "right": null,
      "top": null,
      "visibility": null,
      "width": null
     }
    },
    "13470733bbc74beaa6424b5958da6caa": {
     "model_module": "@jupyter-widgets/base",
     "model_module_version": "1.2.0",
     "model_name": "LayoutModel",
     "state": {
      "_model_module": "@jupyter-widgets/base",
      "_model_module_version": "1.2.0",
      "_model_name": "LayoutModel",
      "_view_count": null,
      "_view_module": "@jupyter-widgets/base",
      "_view_module_version": "1.2.0",
      "_view_name": "LayoutView",
      "align_content": null,
      "align_items": null,
      "align_self": null,
      "border": null,
      "bottom": null,
      "display": null,
      "flex": null,
      "flex_flow": null,
      "grid_area": null,
      "grid_auto_columns": null,
      "grid_auto_flow": null,
      "grid_auto_rows": null,
      "grid_column": null,
      "grid_gap": null,
      "grid_row": null,
      "grid_template_areas": null,
      "grid_template_columns": null,
      "grid_template_rows": null,
      "height": null,
      "justify_content": null,
      "justify_items": null,
      "left": null,
      "margin": null,
      "max_height": null,
      "max_width": null,
      "min_height": null,
      "min_width": null,
      "object_fit": null,
      "object_position": null,
      "order": null,
      "overflow": null,
      "overflow_x": null,
      "overflow_y": null,
      "padding": null,
      "right": null,
      "top": null,
      "visibility": null,
      "width": null
     }
    },
    "391a7a948d6b4feb9cc5ab9cacc699c8": {
     "model_module": "@jupyter-widgets/output",
     "model_module_version": "1.0.0",
     "model_name": "OutputModel",
     "state": {
      "_dom_classes": [],
      "_model_module": "@jupyter-widgets/output",
      "_model_module_version": "1.0.0",
      "_model_name": "OutputModel",
      "_view_count": null,
      "_view_module": "@jupyter-widgets/output",
      "_view_module_version": "1.0.0",
      "_view_name": "OutputView",
      "layout": "IPY_MODEL_a4c683770fa040b2a8bcf80362db0d7f",
      "msg_id": "",
      "outputs": [
       {
        "name": "stdout",
        "output_type": "stream",
        "text": [
         "A\n"
        ]
       }
      ]
     }
    },
    "46a4ac3f6d344b1b99c23dffb514789d": {
     "model_module": "@jupyter-widgets/controls",
     "model_module_version": "1.5.0",
     "model_name": "VBoxModel",
     "state": {
      "_dom_classes": [
       "widget-interact"
      ],
      "_model_module": "@jupyter-widgets/controls",
      "_model_module_version": "1.5.0",
      "_model_name": "VBoxModel",
      "_view_count": null,
      "_view_module": "@jupyter-widgets/controls",
      "_view_module_version": "1.5.0",
      "_view_name": "VBoxView",
      "box_style": "",
      "children": [
       "IPY_MODEL_b8b2d79647a741aeb3e68be8518bbd04",
       "IPY_MODEL_61b9b017729d481c8f6f44e95fe47dca"
      ],
      "layout": "IPY_MODEL_13470733bbc74beaa6424b5958da6caa"
     }
    },
    "55eea5e36f08469cb21da17984d248ac": {
     "model_module": "@jupyter-widgets/base",
     "model_module_version": "1.2.0",
     "model_name": "LayoutModel",
     "state": {
      "_model_module": "@jupyter-widgets/base",
      "_model_module_version": "1.2.0",
      "_model_name": "LayoutModel",
      "_view_count": null,
      "_view_module": "@jupyter-widgets/base",
      "_view_module_version": "1.2.0",
      "_view_name": "LayoutView",
      "align_content": null,
      "align_items": null,
      "align_self": null,
      "border": null,
      "bottom": null,
      "display": null,
      "flex": null,
      "flex_flow": null,
      "grid_area": null,
      "grid_auto_columns": null,
      "grid_auto_flow": null,
      "grid_auto_rows": null,
      "grid_column": null,
      "grid_gap": null,
      "grid_row": null,
      "grid_template_areas": null,
      "grid_template_columns": null,
      "grid_template_rows": null,
      "height": null,
      "justify_content": null,
      "justify_items": null,
      "left": null,
      "margin": null,
      "max_height": null,
      "max_width": null,
      "min_height": null,
      "min_width": null,
      "object_fit": null,
      "object_position": null,
      "order": null,
      "overflow": null,
      "overflow_x": null,
      "overflow_y": null,
      "padding": null,
      "right": null,
      "top": null,
      "visibility": null,
      "width": null
     }
    },
    "61b9b017729d481c8f6f44e95fe47dca": {
     "model_module": "@jupyter-widgets/output",
     "model_module_version": "1.0.0",
     "model_name": "OutputModel",
     "state": {
      "_dom_classes": [],
      "_model_module": "@jupyter-widgets/output",
      "_model_module_version": "1.0.0",
      "_model_name": "OutputModel",
      "_view_count": null,
      "_view_module": "@jupyter-widgets/output",
      "_view_module_version": "1.0.0",
      "_view_name": "OutputView",
      "layout": "IPY_MODEL_87257ce4a84c42e99e5fd471bb922cf3",
      "msg_id": "",
      "outputs": [
       {
        "name": "stdout",
        "output_type": "stream",
        "text": [
         "Selected Start: w; Selected Target: Haus17\n"
        ]
       }
      ]
     }
    },
    "622631b3d2cc4875b89b34d13b291271": {
     "model_module": "@jupyter-widgets/controls",
     "model_module_version": "1.5.0",
     "model_name": "DescriptionStyleModel",
     "state": {
      "_model_module": "@jupyter-widgets/controls",
      "_model_module_version": "1.5.0",
      "_model_name": "DescriptionStyleModel",
      "_view_count": null,
      "_view_module": "@jupyter-widgets/base",
      "_view_module_version": "1.2.0",
      "_view_name": "StyleView",
      "description_width": ""
     }
    },
    "87257ce4a84c42e99e5fd471bb922cf3": {
     "model_module": "@jupyter-widgets/base",
     "model_module_version": "1.2.0",
     "model_name": "LayoutModel",
     "state": {
      "_model_module": "@jupyter-widgets/base",
      "_model_module_version": "1.2.0",
      "_model_name": "LayoutModel",
      "_view_count": null,
      "_view_module": "@jupyter-widgets/base",
      "_view_module_version": "1.2.0",
      "_view_name": "LayoutView",
      "align_content": null,
      "align_items": null,
      "align_self": null,
      "border": null,
      "bottom": null,
      "display": null,
      "flex": null,
      "flex_flow": null,
      "grid_area": null,
      "grid_auto_columns": null,
      "grid_auto_flow": null,
      "grid_auto_rows": null,
      "grid_column": null,
      "grid_gap": null,
      "grid_row": null,
      "grid_template_areas": null,
      "grid_template_columns": null,
      "grid_template_rows": null,
      "height": null,
      "justify_content": null,
      "justify_items": null,
      "left": null,
      "margin": null,
      "max_height": null,
      "max_width": null,
      "min_height": null,
      "min_width": null,
      "object_fit": null,
      "object_position": null,
      "order": null,
      "overflow": null,
      "overflow_x": null,
      "overflow_y": null,
      "padding": null,
      "right": null,
      "top": null,
      "visibility": null,
      "width": null
     }
    },
    "8a7bb639136140469f48a5c4f39f1e20": {
     "model_module": "@jupyter-widgets/controls",
     "model_module_version": "1.5.0",
     "model_name": "SelectModel",
     "state": {
      "_dom_classes": [],
      "_model_module": "@jupyter-widgets/controls",
      "_model_module_version": "1.5.0",
      "_model_name": "SelectModel",
      "_options_labels": [
       "Option A",
       "Option B"
      ],
      "_view_count": null,
      "_view_module": "@jupyter-widgets/controls",
      "_view_module_version": "1.5.0",
      "_view_name": "SelectView",
      "description": "Select",
      "description_tooltip": null,
      "disabled": false,
      "index": 0,
      "layout": "IPY_MODEL_55eea5e36f08469cb21da17984d248ac",
      "rows": 5,
      "style": "IPY_MODEL_622631b3d2cc4875b89b34d13b291271"
     }
    },
    "8ed93a2182ac45628d5fa0cb3777e6f3": {
     "model_module": "@jupyter-widgets/controls",
     "model_module_version": "1.5.0",
     "model_name": "SelectModel",
     "state": {
      "_dom_classes": [],
      "_model_module": "@jupyter-widgets/controls",
      "_model_module_version": "1.5.0",
      "_model_name": "SelectModel",
      "_options_labels": [
       "Haus1",
       "Haus10",
       "Haus11",
       "Haus12",
       "Haus13",
       "Haus14",
       "Haus15",
       "Haus16",
       "Haus17",
       "Haus19",
       "Haus2",
       "Haus20",
       "Haus22",
       "Haus24",
       "Haus25",
       "Haus26",
       "Haus27",
       "Haus28",
       "Haus29",
       "Haus3",
       "Haus30",
       "Haus31",
       "Haus32",
       "Haus33",
       "Haus34",
       "Haus35",
       "Haus36",
       "Haus37",
       "Haus39",
       "Haus4",
       "Haus40",
       "Haus41",
       "Haus42",
       "Haus43",
       "Haus5",
       "Haus6",
       "Haus7",
       "Haus8",
       "Haus9"
      ],
      "_view_count": null,
      "_view_module": "@jupyter-widgets/controls",
      "_view_module_version": "1.5.0",
      "_view_name": "SelectView",
      "description": "Target",
      "description_tooltip": null,
      "disabled": false,
      "index": 0,
      "layout": "IPY_MODEL_d089a78280854ed98081fdf856635983",
      "rows": 5,
      "style": "IPY_MODEL_edc88a8db35d4514b66d477af99d1dd1"
     }
    },
    "941c12d314b843aa901e175f2bec1802": {
     "model_module": "@jupyter-widgets/controls",
     "model_module_version": "1.5.0",
     "model_name": "DescriptionStyleModel",
     "state": {
      "_model_module": "@jupyter-widgets/controls",
      "_model_module_version": "1.5.0",
      "_model_name": "DescriptionStyleModel",
      "_view_count": null,
      "_view_module": "@jupyter-widgets/base",
      "_view_module_version": "1.2.0",
      "_view_name": "StyleView",
      "description_width": ""
     }
    },
    "9e7cbb450bd04cd0ab00170c409feeae": {
     "model_module": "@jupyter-widgets/base",
     "model_module_version": "1.2.0",
     "model_name": "LayoutModel",
     "state": {
      "_model_module": "@jupyter-widgets/base",
      "_model_module_version": "1.2.0",
      "_model_name": "LayoutModel",
      "_view_count": null,
      "_view_module": "@jupyter-widgets/base",
      "_view_module_version": "1.2.0",
      "_view_name": "LayoutView",
      "align_content": null,
      "align_items": null,
      "align_self": null,
      "border": null,
      "bottom": null,
      "display": null,
      "flex": null,
      "flex_flow": null,
      "grid_area": null,
      "grid_auto_columns": null,
      "grid_auto_flow": null,
      "grid_auto_rows": null,
      "grid_column": null,
      "grid_gap": null,
      "grid_row": null,
      "grid_template_areas": null,
      "grid_template_columns": null,
      "grid_template_rows": null,
      "height": null,
      "justify_content": null,
      "justify_items": null,
      "left": null,
      "margin": null,
      "max_height": null,
      "max_width": null,
      "min_height": null,
      "min_width": null,
      "object_fit": null,
      "object_position": null,
      "order": null,
      "overflow": null,
      "overflow_x": null,
      "overflow_y": null,
      "padding": null,
      "right": null,
      "top": null,
      "visibility": null,
      "width": null
     }
    },
    "a35afb82239a462e85323c93de5ff740": {
     "model_module": "@jupyter-widgets/base",
     "model_module_version": "1.2.0",
     "model_name": "LayoutModel",
     "state": {
      "_model_module": "@jupyter-widgets/base",
      "_model_module_version": "1.2.0",
      "_model_name": "LayoutModel",
      "_view_count": null,
      "_view_module": "@jupyter-widgets/base",
      "_view_module_version": "1.2.0",
      "_view_name": "LayoutView",
      "align_content": null,
      "align_items": null,
      "align_self": null,
      "border": null,
      "bottom": null,
      "display": null,
      "flex": null,
      "flex_flow": null,
      "grid_area": null,
      "grid_auto_columns": null,
      "grid_auto_flow": null,
      "grid_auto_rows": null,
      "grid_column": null,
      "grid_gap": null,
      "grid_row": null,
      "grid_template_areas": null,
      "grid_template_columns": null,
      "grid_template_rows": null,
      "height": null,
      "justify_content": null,
      "justify_items": null,
      "left": null,
      "margin": null,
      "max_height": null,
      "max_width": null,
      "min_height": null,
      "min_width": null,
      "object_fit": null,
      "object_position": null,
      "order": null,
      "overflow": null,
      "overflow_x": null,
      "overflow_y": null,
      "padding": null,
      "right": null,
      "top": null,
      "visibility": null,
      "width": null
     }
    },
    "a4c683770fa040b2a8bcf80362db0d7f": {
     "model_module": "@jupyter-widgets/base",
     "model_module_version": "1.2.0",
     "model_name": "LayoutModel",
     "state": {
      "_model_module": "@jupyter-widgets/base",
      "_model_module_version": "1.2.0",
      "_model_name": "LayoutModel",
      "_view_count": null,
      "_view_module": "@jupyter-widgets/base",
      "_view_module_version": "1.2.0",
      "_view_name": "LayoutView",
      "align_content": null,
      "align_items": null,
      "align_self": null,
      "border": null,
      "bottom": null,
      "display": null,
      "flex": null,
      "flex_flow": null,
      "grid_area": null,
      "grid_auto_columns": null,
      "grid_auto_flow": null,
      "grid_auto_rows": null,
      "grid_column": null,
      "grid_gap": null,
      "grid_row": null,
      "grid_template_areas": null,
      "grid_template_columns": null,
      "grid_template_rows": null,
      "height": null,
      "justify_content": null,
      "justify_items": null,
      "left": null,
      "margin": null,
      "max_height": null,
      "max_width": null,
      "min_height": null,
      "min_width": null,
      "object_fit": null,
      "object_position": null,
      "order": null,
      "overflow": null,
      "overflow_x": null,
      "overflow_y": null,
      "padding": null,
      "right": null,
      "top": null,
      "visibility": null,
      "width": null
     }
    },
    "b8b2d79647a741aeb3e68be8518bbd04": {
     "model_module": "@jupyter-widgets/controls",
     "model_module_version": "1.5.0",
     "model_name": "SelectModel",
     "state": {
      "_dom_classes": [],
      "_model_module": "@jupyter-widgets/controls",
      "_model_module_version": "1.5.0",
      "_model_name": "SelectModel",
      "_options_labels": [
       "Aufnahme",
       "Eingang West",
       "Eingang Ost",
       "Eingang Fahrzeuge"
      ],
      "_view_count": null,
      "_view_module": "@jupyter-widgets/controls",
      "_view_module_version": "1.5.0",
      "_view_name": "SelectView",
      "description": "Start",
      "description_tooltip": null,
      "disabled": false,
      "index": 1,
      "layout": "IPY_MODEL_9e7cbb450bd04cd0ab00170c409feeae",
      "rows": 5,
      "style": "IPY_MODEL_941c12d314b843aa901e175f2bec1802"
     }
    },
    "c7815ce2236748a8915ea3dbfbe9dfd3": {
     "model_module": "@jupyter-widgets/controls",
     "model_module_version": "1.5.0",
     "model_name": "VBoxModel",
     "state": {
      "_dom_classes": [
       "widget-interact"
      ],
      "_model_module": "@jupyter-widgets/controls",
      "_model_module_version": "1.5.0",
      "_model_name": "VBoxModel",
      "_view_count": null,
      "_view_module": "@jupyter-widgets/controls",
      "_view_module_version": "1.5.0",
      "_view_name": "VBoxView",
      "box_style": "",
      "children": [
       "IPY_MODEL_8ed93a2182ac45628d5fa0cb3777e6f3",
       "IPY_MODEL_ee78a82c3b3c4eae9dc7762e3d92d282"
      ],
      "layout": "IPY_MODEL_0383d26702e94b609a7d1adbf700c484"
     }
    },
    "d089a78280854ed98081fdf856635983": {
     "model_module": "@jupyter-widgets/base",
     "model_module_version": "1.2.0",
     "model_name": "LayoutModel",
     "state": {
      "_model_module": "@jupyter-widgets/base",
      "_model_module_version": "1.2.0",
      "_model_name": "LayoutModel",
      "_view_count": null,
      "_view_module": "@jupyter-widgets/base",
      "_view_module_version": "1.2.0",
      "_view_name": "LayoutView",
      "align_content": null,
      "align_items": null,
      "align_self": null,
      "border": null,
      "bottom": null,
      "display": null,
      "flex": null,
      "flex_flow": null,
      "grid_area": null,
      "grid_auto_columns": null,
      "grid_auto_flow": null,
      "grid_auto_rows": null,
      "grid_column": null,
      "grid_gap": null,
      "grid_row": null,
      "grid_template_areas": null,
      "grid_template_columns": null,
      "grid_template_rows": null,
      "height": null,
      "justify_content": null,
      "justify_items": null,
      "left": null,
      "margin": null,
      "max_height": null,
      "max_width": null,
      "min_height": null,
      "min_width": null,
      "object_fit": null,
      "object_position": null,
      "order": null,
      "overflow": null,
      "overflow_x": null,
      "overflow_y": null,
      "padding": null,
      "right": null,
      "top": null,
      "visibility": null,
      "width": null
     }
    },
    "dedc5321f51a425d9df051ce3e51546d": {
     "model_module": "@jupyter-widgets/base",
     "model_module_version": "1.2.0",
     "model_name": "LayoutModel",
     "state": {
      "_model_module": "@jupyter-widgets/base",
      "_model_module_version": "1.2.0",
      "_model_name": "LayoutModel",
      "_view_count": null,
      "_view_module": "@jupyter-widgets/base",
      "_view_module_version": "1.2.0",
      "_view_name": "LayoutView",
      "align_content": null,
      "align_items": null,
      "align_self": null,
      "border": null,
      "bottom": null,
      "display": null,
      "flex": null,
      "flex_flow": null,
      "grid_area": null,
      "grid_auto_columns": null,
      "grid_auto_flow": null,
      "grid_auto_rows": null,
      "grid_column": null,
      "grid_gap": null,
      "grid_row": null,
      "grid_template_areas": null,
      "grid_template_columns": null,
      "grid_template_rows": null,
      "height": null,
      "justify_content": null,
      "justify_items": null,
      "left": null,
      "margin": null,
      "max_height": null,
      "max_width": null,
      "min_height": null,
      "min_width": null,
      "object_fit": null,
      "object_position": null,
      "order": null,
      "overflow": null,
      "overflow_x": null,
      "overflow_y": null,
      "padding": null,
      "right": null,
      "top": null,
      "visibility": null,
      "width": null
     }
    },
    "edc88a8db35d4514b66d477af99d1dd1": {
     "model_module": "@jupyter-widgets/controls",
     "model_module_version": "1.5.0",
     "model_name": "DescriptionStyleModel",
     "state": {
      "_model_module": "@jupyter-widgets/controls",
      "_model_module_version": "1.5.0",
      "_model_name": "DescriptionStyleModel",
      "_view_count": null,
      "_view_module": "@jupyter-widgets/base",
      "_view_module_version": "1.2.0",
      "_view_name": "StyleView",
      "description_width": ""
     }
    },
    "ee78a82c3b3c4eae9dc7762e3d92d282": {
     "model_module": "@jupyter-widgets/output",
     "model_module_version": "1.0.0",
     "model_name": "OutputModel",
     "state": {
      "_dom_classes": [],
      "_model_module": "@jupyter-widgets/output",
      "_model_module_version": "1.0.0",
      "_model_name": "OutputModel",
      "_view_count": null,
      "_view_module": "@jupyter-widgets/output",
      "_view_module_version": "1.0.0",
      "_view_name": "OutputView",
      "layout": "IPY_MODEL_dedc5321f51a425d9df051ce3e51546d",
      "msg_id": "",
      "outputs": [
       {
        "data": {
         "text/html": "<div style=\"width:100%;\"><div style=\"position:relative;width:100%;height:0;padding-bottom:60%;\"><span style=\"color:#565656\">Make this Notebook Trusted to load map: File -> Trust Notebook</span><iframe srcdoc=\"&lt;!DOCTYPE html&gt;\n&lt;head&gt;    \n    &lt;meta http-equiv=&quot;content-type&quot; content=&quot;text/html; charset=UTF-8&quot; /&gt;\n    \n        &lt;script&gt;\n            L_NO_TOUCH = false;\n            L_DISABLE_3D = false;\n        &lt;/script&gt;\n    \n    &lt;style&gt;html, body {width: 100%;height: 100%;margin: 0;padding: 0;}&lt;/style&gt;\n    &lt;style&gt;#map {position:absolute;top:0;bottom:0;right:0;left:0;}&lt;/style&gt;\n    &lt;script src=&quot;https://cdn.jsdelivr.net/npm/leaflet@1.6.0/dist/leaflet.js&quot;&gt;&lt;/script&gt;\n    &lt;script src=&quot;https://code.jquery.com/jquery-1.12.4.min.js&quot;&gt;&lt;/script&gt;\n    &lt;script src=&quot;https://maxcdn.bootstrapcdn.com/bootstrap/3.2.0/js/bootstrap.min.js&quot;&gt;&lt;/script&gt;\n    &lt;script src=&quot;https://cdnjs.cloudflare.com/ajax/libs/Leaflet.awesome-markers/2.0.2/leaflet.awesome-markers.js&quot;&gt;&lt;/script&gt;\n    &lt;link rel=&quot;stylesheet&quot; href=&quot;https://cdn.jsdelivr.net/npm/leaflet@1.6.0/dist/leaflet.css&quot;/&gt;\n    &lt;link rel=&quot;stylesheet&quot; href=&quot;https://maxcdn.bootstrapcdn.com/bootstrap/3.2.0/css/bootstrap.min.css&quot;/&gt;\n    &lt;link rel=&quot;stylesheet&quot; href=&quot;https://maxcdn.bootstrapcdn.com/bootstrap/3.2.0/css/bootstrap-theme.min.css&quot;/&gt;\n    &lt;link rel=&quot;stylesheet&quot; href=&quot;https://maxcdn.bootstrapcdn.com/font-awesome/4.6.3/css/font-awesome.min.css&quot;/&gt;\n    &lt;link rel=&quot;stylesheet&quot; href=&quot;https://cdnjs.cloudflare.com/ajax/libs/Leaflet.awesome-markers/2.0.2/leaflet.awesome-markers.css&quot;/&gt;\n    &lt;link rel=&quot;stylesheet&quot; href=&quot;https://cdn.jsdelivr.net/gh/python-visualization/folium/folium/templates/leaflet.awesome.rotate.min.css&quot;/&gt;\n    \n            &lt;meta name=&quot;viewport&quot; content=&quot;width=device-width,\n                initial-scale=1.0, maximum-scale=1.0, user-scalable=no&quot; /&gt;\n            &lt;style&gt;\n                #map_5dfab0131aa5e632cdbb60940e3bc013 {\n                    position: relative;\n                    width: 75.0%;\n                    height: 100.0%;\n                    left: 0.0%;\n                    top: 0.0%;\n                }\n            &lt;/style&gt;\n        \n    &lt;script src=&quot;https://cdn.jsdelivr.net/npm/leaflet-ant-path@1.1.2/dist/leaflet-ant-path.min.js&quot;&gt;&lt;/script&gt;\n&lt;/head&gt;\n&lt;body&gt;    \n    \n            &lt;div class=&quot;folium-map&quot; id=&quot;map_5dfab0131aa5e632cdbb60940e3bc013&quot; &gt;&lt;/div&gt;\n        \n&lt;/body&gt;\n&lt;script&gt;    \n    \n            var map_5dfab0131aa5e632cdbb60940e3bc013 = L.map(\n                &quot;map_5dfab0131aa5e632cdbb60940e3bc013&quot;,\n                {\n                    center: [49.49226339787344, 8.487303256988524],\n                    crs: L.CRS.EPSG3857,\n                    zoom: 17,\n                    zoomControl: true,\n                    preferCanvas: false,\n                }\n            );\n\n            \n\n        \n    \n            var tile_layer_466962d294b70d0899839efcb3361ac9 = L.tileLayer(\n                &quot;https://{s}.tile.openstreetmap.org/{z}/{x}/{y}.png&quot;,\n                {&quot;attribution&quot;: &quot;Data by \\u0026copy; \\u003ca href=\\&quot;http://openstreetmap.org\\&quot;\\u003eOpenStreetMap\\u003c/a\\u003e, under \\u003ca href=\\&quot;http://www.openstreetmap.org/copyright\\&quot;\\u003eODbL\\u003c/a\\u003e.&quot;, &quot;detectRetina&quot;: false, &quot;maxNativeZoom&quot;: 18, &quot;maxZoom&quot;: 18, &quot;minZoom&quot;: 0, &quot;noWrap&quot;: false, &quot;opacity&quot;: 1, &quot;subdomains&quot;: &quot;abc&quot;, &quot;tms&quot;: false}\n            ).addTo(map_5dfab0131aa5e632cdbb60940e3bc013);\n        \n    \n            ant_path_4868a3c1c8598ffbdac27ed9d336df29 = L.polyline.antPath(\n              [[49.49212750368275, 8.484157025814056], [49.49232873148465, 8.484297841787338], [49.4923426693104, 8.484513759613037], [49.49219545082526, 8.48504215478897], [49.49214318380095, 8.48505288362503], [49.49179473554591, 8.48627597093582], [49.49232786037041, 8.486654162406921], [49.49235922047337, 8.486557602882385], [49.49287491706263, 8.48692238330841]],\n              {&quot;bubblingMouseEvents&quot;: true, &quot;color&quot;: &quot;#0000FF&quot;, &quot;dashArray&quot;: [10, 20], &quot;dashOffset&quot;: null, &quot;delay&quot;: 400, &quot;fill&quot;: false, &quot;fillColor&quot;: &quot;#3388ff&quot;, &quot;fillOpacity&quot;: 0.2, &quot;fillRule&quot;: &quot;evenodd&quot;, &quot;hardwareAcceleration&quot;: false, &quot;lineCap&quot;: &quot;round&quot;, &quot;lineJoin&quot;: &quot;round&quot;, &quot;noClip&quot;: false, &quot;opacity&quot;: 0.5, &quot;paused&quot;: false, &quot;pulseColor&quot;: &quot;#FFFFFF&quot;, &quot;reverse&quot;: false, &quot;smoothFactor&quot;: 1.0, &quot;stroke&quot;: true, &quot;weight&quot;: 5}\n        ).addTo(map_5dfab0131aa5e632cdbb60940e3bc013);\n        \n    \n\n        function geo_json_b839bcf4953d48bdc2eaec659ee4963b_onEachFeature(feature, layer) {\n            layer.on({\n            });\n        };\n        var geo_json_b839bcf4953d48bdc2eaec659ee4963b = L.geoJson(null, {\n                onEachFeature: geo_json_b839bcf4953d48bdc2eaec659ee4963b_onEachFeature,\n            \n        });\n\n        function geo_json_b839bcf4953d48bdc2eaec659ee4963b_add (data) {\n            geo_json_b839bcf4953d48bdc2eaec659ee4963b\n                .addData(data)\n                .addTo(map_5dfab0131aa5e632cdbb60940e3bc013);\n        }\n            geo_json_b839bcf4953d48bdc2eaec659ee4963b_add({&quot;features&quot;: [{&quot;geometry&quot;: {&quot;coordinates&quot;: [[[8.486825823783875, 49.49253954067553], [8.486878126859665, 49.49260138948078], [8.487191945314407, 49.49251340735406], [8.487260341644285, 49.492610971683035], [8.487162441015244, 49.49276428666425], [8.487288504838943, 49.49294199206429], [8.487525880336761, 49.49300209815654], [8.48738372325897, 49.493246877277066], [8.487053811550139, 49.49316934950302], [8.486589789390564, 49.49329827202588], [8.486475795507431, 49.49351430360026], [8.486085534095764, 49.493430678587806], [8.486196845769882, 49.49321290444737], [8.48614990711212, 49.49313886101891], [8.486089557409285, 49.49315715411166], [8.485933989286423, 49.49312840781999], [8.485842794179915, 49.49299861374741], [8.485900461673737, 49.49289233914981], [8.486101627349854, 49.492834846238544], [8.486131131649017, 49.492793904275715], [8.486101627349854, 49.492751220065266], [8.486337661743164, 49.49268327369423], [8.486380577087402, 49.49274163789044], [8.4866414219141, 49.492665415978514], [8.486597165465355, 49.4926057450275], [8.486825823783875, 49.49253954067553]]], &quot;type&quot;: &quot;Polygon&quot;}, &quot;properties&quot;: {}, &quot;type&quot;: &quot;Feature&quot;}], &quot;type&quot;: &quot;FeatureCollection&quot;});\n\n        \n&lt;/script&gt;\" style=\"position:absolute;width:100%;height:100%;left:0;top:0;border:none !important;\" allowfullscreen webkitallowfullscreen mozallowfullscreen></iframe></div></div>",
         "text/plain": "<folium.folium.Map at 0x7f7b2ad50f10>"
        },
        "metadata": {},
        "output_type": "display_data"
       }
      ]
     }
    },
    "f5e7cb4be8574ffbb95ebebc6c865d96": {
     "model_module": "@jupyter-widgets/controls",
     "model_module_version": "1.5.0",
     "model_name": "VBoxModel",
     "state": {
      "_dom_classes": [
       "widget-interact"
      ],
      "_model_module": "@jupyter-widgets/controls",
      "_model_module_version": "1.5.0",
      "_model_name": "VBoxModel",
      "_view_count": null,
      "_view_module": "@jupyter-widgets/controls",
      "_view_module_version": "1.5.0",
      "_view_name": "VBoxView",
      "box_style": "",
      "children": [
       "IPY_MODEL_8a7bb639136140469f48a5c4f39f1e20",
       "IPY_MODEL_391a7a948d6b4feb9cc5ab9cacc699c8"
      ],
      "layout": "IPY_MODEL_a35afb82239a462e85323c93de5ff740"
     }
    }
   }
  }
 },
 "nbformat": 4,
 "nbformat_minor": 4
}
